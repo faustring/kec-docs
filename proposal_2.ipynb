{
 "cells": [
  {
   "cell_type": "markdown",
   "metadata": {
    "deletable": true,
    "editable": true
   },
   "source": [
    "# K.E.C ( Karaoke Eet Coin )\n",
    "\n",
    "사용자의 GPS를 기준으로 인근 노래방의 위치 및 다양한 정보들을 제공해주는 서비스\n",
    "\n",
    "##### 이 문서는 `제이` 에 의해 작성되었었고 `Claude`에 의해 재작성 되었습니다"
   ]
  },
  {
   "cell_type": "markdown",
   "metadata": {},
   "source": [
    "## 회의록\n",
    "\n",
    "- 초기 개발에는 카테고리 기반의 검색 기능만 지원\n",
    "    - 추후 로그가 쌓인 뒤 다양한 추천기능 도입\n",
    "- 예산 문제\n",
    "    - AWS Free Tier 를 사용\n",
    "    - EC2, RDS, S3, Lambda, CloudFront\n",
    "- 네비게이션 기능\n",
    "    - 네이버 네비게이션 페이지로 리다이렉트\n",
    "- 어플리케이션 레이아웃\n",
    "    - TJ 모바일, 멜론 앱등을 참고하여 논의 후 결정\n",
    "- 랭킹 시스템\n",
    "    - NoiR 제안\n",
    "    - 활동 내역을 통해 포인트를 얻을 수 있음\n",
    "    - 활동 내역\n",
    "        - 누락된 노래방 위치 제보 : 10점\n",
    "        - 잘못된 정보 제보 : 5점\n",
    "        - 노래방 방문: 3점\n",
    "        - 댓글 작성: 2점\n",
    "        - 평점: 1점\n",
    "        - 출석: 1점"
   ]
  },
  {
   "cell_type": "markdown",
   "metadata": {},
   "source": [
    "## 개발 일정\n",
    "\n",
    "- Claude\n",
    "    - API (node.js) : 2 ~ 3주\n",
    "    - iOS (swift) : 4 ~ 5주\n",
    "- 제이\n",
    "    - Android (Kotlin): 6주\n",
    "- NoiR\n",
    "    - Window App (C#) : 5 ~ 6주\n",
    "- 백적운\n",
    "    - WEB (Vue.js, 반응형) : 4주"
   ]
  }
 ],
 "metadata": {
  "kernelspec": {
   "display_name": "Python 2",
   "language": "python",
   "name": "python2"
  },
  "language_info": {
   "codemirror_mode": {
    "name": "ipython",
    "version": 2
   },
   "file_extension": ".py",
   "mimetype": "text/x-python",
   "name": "python",
   "nbconvert_exporter": "python",
   "pygments_lexer": "ipython2",
   "version": "2.7.10"
  }
 },
 "nbformat": 4,
 "nbformat_minor": 2
}
