{
 "cells": [
  {
   "cell_type": "markdown",
   "metadata": {},
   "source": [
    "# K.E.C ( Karaoke Eet Coin )\n",
    "\n",
    "사용자의 GPS를 기준으로 인근 노래방의 위치 및 다양한 정보들을 제공해주는 서비스"
   ]
  },
  {
   "cell_type": "markdown",
   "metadata": {},
   "source": [
    "<h1>2회차 회의록</h1>\n",
    "<li>초기 개발에는 기본적인 검색기능만 구현하며, 추후에 추천기능등의 도입을 고려해볼 예정.</li>\n",
    "<li>예산문제 : 서버는 네오프렌즈에서 지원...? </li>\n",
    "<li>윈도우 및 안드로이드는 지도관련하여 web view 사용</li>\n",
    "<li>레이아웃은 멜론,TJ앱을 참고하여 개발</li></br>\n",
    "<h2>프로토타입 목표 :</h2>\n",
    "<li>서동명 api 2주, ios 4주 / 김주환 웹(반응형포함) 4주 / 신동학 윈도우앱 6주 / 유제현 안드로이드(코틀린) 6주</li>\n",
    "<li>포인트시스템 도입 : 방문하면 3점 / 댓글 2점 (횟수제한 2번 gps거리계산) / 평점 1점 / 출석1점 부여 / 누락된 노래방 위치 제보시 10점 / 잘못된 정보 제보시 5점</li>"
   ]
  },
  {
   "cell_type": "code",
   "execution_count": null,
   "metadata": {
    "collapsed": true
   },
   "outputs": [],
   "source": []
  }
 ],
 "metadata": {
  "kernelspec": {
   "display_name": "Python 2",
   "language": "python",
   "name": "python2"
  },
  "language_info": {
   "codemirror_mode": {
    "name": "ipython",
    "version": 2
   },
   "file_extension": ".py",
   "mimetype": "text/x-python",
   "name": "python",
   "nbconvert_exporter": "python",
   "pygments_lexer": "ipython2",
   "version": "2.7.10"
  }
 },
 "nbformat": 4,
 "nbformat_minor": 2
}
