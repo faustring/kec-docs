{
 "cells": [
  {
   "cell_type": "markdown",
   "metadata": {},
   "source": [
    "# K.E.C ( Karaoke Eet Coin )\n",
    "\n",
    "사용자의 GPS를 기준으로 인근 노래방의 위치 및 다양한 정보들을 제공해주는 서비스"
   ]
  },
  {
   "cell_type": "markdown",
   "metadata": {},
   "source": [
    "## 제공하는 정보들\n",
    "- **위치 정보**\n",
    "- 노래방 정보\n",
    "    - 금액\n",
    "    - 시설 사진\n",
    "    - 정보 수정 제안\n",
    "- 사용자 평가 (리뷰)\n",
    "    - 텍스트\n",
    "    - 별점\n",
    "    - 로그인 익명 댓글 달기 기능\n",
    "- 노래 추천\n",
    "    - 카테고리별 노래\n",
    "        - 애니\n",
    "        - R&B\n",
    "        - 팝송\n",
    "        - 남자가 부르기 좋은 노래\n",
    "        - 여자가 부르기 좋은 노래\n",
    "    - TJ, 금영 인기 노래 추천\n",
    "- 노래 검색\n",
    "    - TJ, 금영 곡 번호 찾기\n",
    "    - youtube 바로 가기 지원\n",
    "    - 가사 검색"
   ]
  },
  {
   "cell_type": "markdown",
   "metadata": {},
   "source": [
    "### 사용자 인증\n",
    "- Facebook 로그인\n",
    "- Google 로그인\n",
    "- Naver 로그인\n",
    "- Kakao 로그인"
   ]
  },
  {
   "cell_type": "markdown",
   "metadata": {},
   "source": [
    "### 사용자 정보\n",
    "- 사용자 고유번호\n",
    "- 닉네임\n",
    "- SNS Type, AccessToken, SecretToken\n",
    "- 회원가입 일자\n",
    "- 마지막 로그인 시간"
   ]
  },
  {
   "cell_type": "markdown",
   "metadata": {},
   "source": [
    "### 노래방 정보\n",
    "- 이름\n",
    "- 위치 ( lat, lng, Full Address )\n",
    "- 전화번호\n",
    "- 카테고리\n",
    "- 가격\n",
    "- 리뷰 정보"
   ]
  },
  {
   "cell_type": "markdown",
   "metadata": {},
   "source": [
    "### 위치 정보\n",
    "위치 정보 사용하려면 **위치정보사업자**가 필요함\n",
    "    - 동학이가 검토 ( 불필요 )"
   ]
  },
  {
   "cell_type": "markdown",
   "metadata": {},
   "source": [
    "## 비슷한 어플리케이션\n",
    "\n",
    "- [ 노래방 어플리케이션 목록 ](http://p.search.naver.com/mobileapp/search.naver?query=%EB%85%B8%EB%9E%98%EB%B0%A9+%EC%96%B4%ED%94%8C&where=svc)\n",
    "- [ TJ노래방 ](https://play.google.com/store/apps/details?id=tjcomm.zillersong.mobile.activity&hl=ko)\n",
    "- [ 금영노래방 ](https://play.google.com/store/apps/details?id=kr.kymedia.karaoke.kpop.kar&hl=ko)\n",
    "- [ (구) 노래방 위치 찾기 어플리케이션 ](https://www.onestore.co.kr/userpoc/apps/view?pid=0000042175)"
   ]
  },
  {
   "cell_type": "markdown",
   "metadata": {},
   "source": [
    "## 관련 API && 사이트\n",
    "- http://www.tjmedia.co.kr/tjsong/song_roomSearch.asp\n",
    "- http://www.kumyoung.net/support/karaoke_search_list.asp\n",
    "- https://developers.skplanetx.com/apidoc/kor/melon/"
   ]
  },
  {
   "cell_type": "markdown",
   "metadata": {},
   "source": [
    "## 개발 담당\n",
    "- iOS + back-end : Claude\n",
    "- Android : 공백 (White-Space)\n",
    "- Windows Application : NoiR\n",
    "- Web : 백적운"
   ]
  }
 ],
 "metadata": {
  "kernelspec": {
   "display_name": "Python 2",
   "language": "python",
   "name": "python2"
  },
  "language_info": {
   "codemirror_mode": {
    "name": "ipython",
    "version": 2
   },
   "file_extension": ".py",
   "mimetype": "text/x-python",
   "name": "python",
   "nbconvert_exporter": "python",
   "pygments_lexer": "ipython2",
   "version": "2.7.10"
  }
 },
 "nbformat": 4,
 "nbformat_minor": 2
}
